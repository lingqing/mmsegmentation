{
 "cells": [
  {
   "cell_type": "code",
   "execution_count": 1,
   "metadata": {},
   "outputs": [
    {
     "name": "stderr",
     "output_type": "stream",
     "text": [
      "/spc/home/andy/Downloads/private/mmsegmentation/mmseg/models/backbones/resnet.py:431: UserWarning: DeprecationWarning: pretrained is a deprecated, please use \"init_cfg\" instead\n",
      "  warnings.warn('DeprecationWarning: pretrained is a deprecated, '\n",
      "/spc/home/andy/Downloads/private/mmsegmentation/mmseg/models/losses/cross_entropy_loss.py:236: UserWarning: Default ``avg_non_ignore`` is False, if you would like to ignore the certain label and average loss over non-ignore labels, which is the same with PyTorch official cross_entropy, set ``avg_non_ignore=True``.\n",
      "  'Default ``avg_non_ignore`` is False, if you would like to '\n"
     ]
    }
   ],
   "source": [
    "from mmseg.apis import set_random_seed\n",
    "from mmseg.utils import get_device\n",
    "from mmcv import Config\n",
    "import os.path as osp\n",
    "\n",
    "from mmseg.apis import inference_segmentor, init_segmentor, show_result_pyplot\n",
    "from mmseg.models import build_segmentor\n",
    "\n",
    "classes = ('R', 'G', 'B')\n",
    "palette = [[0, 0, 255], [0, 255, 0], [255, 0, 0]]\n",
    "\n",
    "file_root = '/home/andy/Downloads/private/mmsegmentation/demo/psp_line_remove'\n",
    "cfg = Config.fromfile(osp.join(file_root, '../configs/pspnet/pspnet_r50-d8_512x1024_40k_cityscapes.py'))\n",
    "cfg.model.decode_head.num_classes = 3\n",
    "cfg.img_norm_cfg = dict(\n",
    "    mean=[123.675, 116.28, 103.53], std=[58.395, 57.12, 57.375], to_rgb=True)\n",
    "\n",
    "checkpoint_file='/home/andy/Downloads/private/mmsegmentation/work_dirs/datamy/latest.pth'\n",
    "model = build_segmentor(cfg.model)\n",
    "\n",
    "model.CLASSES = classes\n",
    "model.PALETT = palette\n",
    "model.cfg = cfg  # save the config in the model for convenience\n",
    "model.to('cuda:0')\n",
    "model.eval()\n",
    "\n",
    "img='../data/img_dir/1655988351.371892929.jpg'\n",
    "result = inference_segmentor(model, img)\n"
   ]
  },
  {
   "cell_type": "code",
   "execution_count": 41,
   "metadata": {},
   "outputs": [],
   "source": [
    "result = inference_segmentor(model, img)\n"
   ]
  },
  {
   "cell_type": "code",
   "execution_count": 4,
   "metadata": {},
   "outputs": [],
   "source": [
    "from mmcv.parallel import collate, scatter\n",
    "# from mmcv.runner import load_checkpoint\n",
    "\n",
    "from mmseg.datasets.pipelines import Compose\n",
    "import mmcv, torch\n",
    "\n",
    "class LoadImage:\n",
    "    \"\"\"A simple pipeline to load image.\"\"\"\n",
    "\n",
    "    def __call__(self, results):\n",
    "        \"\"\"Call function to load images into results.\n",
    "\n",
    "        Args:\n",
    "            results (dict): A result dict contains the file name\n",
    "                of the image to be read.\n",
    "\n",
    "        Returns:\n",
    "            dict: ``results`` will be returned containing loaded image.\n",
    "        \"\"\"\n",
    "\n",
    "        if isinstance(results['img'], str):\n",
    "            results['filename'] = results['img']\n",
    "            results['ori_filename'] = results['img']\n",
    "        else:\n",
    "            results['filename'] = None\n",
    "            results['ori_filename'] = None\n",
    "        img = mmcv.imread(results['img'])\n",
    "        results['img'] = img\n",
    "        results['img_shape'] = img.shape\n",
    "        results['ori_shape'] = img.shape\n",
    "        return results\n",
    "    \n",
    "cfg.test_pipeline = [\n",
    "    dict(type='LoadImageFromFile'),\n",
    "    dict(\n",
    "        type='MultiScaleFlipAug',\n",
    "        img_scale=(320, 240),\n",
    "        img_ratios=[0.5, 0.75, 1.0, 1.25, 1.5, 1.75],\n",
    "        flip=False,\n",
    "        transforms=[\n",
    "            # dict(type='Resize', keep_ratio=True),\n",
    "            dict(type='RandomFlip'),\n",
    "            dict(type='Normalize', **cfg.img_norm_cfg),\n",
    "            dict(type='ImageToTensor', keys=['img']),\n",
    "            dict(type='Collect', keys=['img']),\n",
    "        ])\n",
    "]\n",
    "\n",
    "# import torch\n",
    "imgs = [img]\n",
    "device = next(model.parameters()).device  # model device\n",
    "# build the data pipeline\n",
    "test_pipeline = [LoadImage()] + cfg.data.test.pipeline[1:]\n",
    "test_pipeline = Compose(test_pipeline)\n",
    "\n",
    "data = []\n",
    "for img in imgs:\n",
    "    img_data = dict(img=img)\n",
    "    img_data = test_pipeline(img_data)\n",
    "    data.append(img_data)\n",
    "data = collate(data, samples_per_gpu=len(imgs))\n",
    "data = scatter(data, [device])[0]\n",
    "with torch.no_grad():\n",
    "    result = model.whole_inference(data['img'][0], img_meta=data['img_metas'][0], rescale=True)"
   ]
  },
  {
   "cell_type": "code",
   "execution_count": 1,
   "metadata": {},
   "outputs": [
    {
     "ename": "NameError",
     "evalue": "name 'mmcv' is not defined",
     "output_type": "error",
     "traceback": [
      "\u001b[0;31m---------------------------------------------------------------------------\u001b[0m",
      "\u001b[0;31mNameError\u001b[0m                                 Traceback (most recent call last)",
      "\u001b[0;32m/tmp/ipykernel_1327820/833626613.py\u001b[0m in \u001b[0;36m<module>\u001b[0;34m\u001b[0m\n\u001b[1;32m      2\u001b[0m \u001b[0mplt\u001b[0m\u001b[0;34m.\u001b[0m\u001b[0mfigure\u001b[0m\u001b[0;34m(\u001b[0m\u001b[0mfigsize\u001b[0m\u001b[0;34m=\u001b[0m\u001b[0;34m(\u001b[0m\u001b[0;36m18\u001b[0m\u001b[0;34m,\u001b[0m\u001b[0;36m16\u001b[0m\u001b[0;34m)\u001b[0m\u001b[0;34m)\u001b[0m\u001b[0;34m\u001b[0m\u001b[0;34m\u001b[0m\u001b[0m\n\u001b[1;32m      3\u001b[0m \u001b[0mplt\u001b[0m\u001b[0;34m.\u001b[0m\u001b[0msubplot\u001b[0m\u001b[0;34m(\u001b[0m\u001b[0;36m1\u001b[0m\u001b[0;34m,\u001b[0m\u001b[0;36m2\u001b[0m\u001b[0;34m,\u001b[0m\u001b[0;36m1\u001b[0m\u001b[0;34m)\u001b[0m\u001b[0;34m\u001b[0m\u001b[0;34m\u001b[0m\u001b[0m\n\u001b[0;32m----> 4\u001b[0;31m \u001b[0mori_img\u001b[0m \u001b[0;34m=\u001b[0m \u001b[0mmmcv\u001b[0m\u001b[0;34m.\u001b[0m\u001b[0mimread\u001b[0m\u001b[0;34m(\u001b[0m\u001b[0mimg\u001b[0m\u001b[0;34m)\u001b[0m\u001b[0;34m\u001b[0m\u001b[0;34m\u001b[0m\u001b[0m\n\u001b[0m\u001b[1;32m      5\u001b[0m \u001b[0mplt\u001b[0m\u001b[0;34m.\u001b[0m\u001b[0mimshow\u001b[0m\u001b[0;34m(\u001b[0m\u001b[0mori_img\u001b[0m\u001b[0;34m)\u001b[0m\u001b[0;34m\u001b[0m\u001b[0;34m\u001b[0m\u001b[0m\n\u001b[1;32m      6\u001b[0m \u001b[0;31m# plt.show(result)\u001b[0m\u001b[0;34m\u001b[0m\u001b[0;34m\u001b[0m\u001b[0;34m\u001b[0m\u001b[0m\n",
      "\u001b[0;31mNameError\u001b[0m: name 'mmcv' is not defined"
     ]
    },
    {
     "data": {
      "image/png": "[encoded data removed]",
      "text/plain": [
       "<Figure size 1296x1152 with 1 Axes>"
      ]
     },
     "metadata": {
      "needs_background": "light"
     },
     "output_type": "display_data"
    }
   ],
   "source": [
    "import matplotlib.pylab as plt\n",
    "plt.figure(figsize=(18,16))\n",
    "plt.subplot(1,2,1)\n",
    "ori_img = mmcv.imread(img)\n",
    "plt.imshow(ori_img)\n",
    "# plt.show(result)\n",
    "import numpy as np\n",
    "plt.subplot(1,2,2)\n",
    "\n",
    "result_img = np.array(result.squeeze(0).cpu()).transpose(1,2,0) * cfg.img_norm_cfg['std']\n",
    "# result_img = np.array(result.squeeze(0).cpu()).transpose(1,2,0)\n",
    "plt.imshow((result_img).astype(np.uint8))\n",
    "print(f'max={result_img.max()}, min={result_img.min()}')\n",
    "plt.show()\n"
   ]
  },
  {
   "cell_type": "code",
   "execution_count": 14,
   "metadata": {},
   "outputs": [
    {
     "data": {
      "text/plain": [
       "1"
      ]
     },
     "execution_count": 14,
     "metadata": {},
     "output_type": "execute_result"
    }
   ],
   "source": [
    "len(result)"
   ]
  }
 ],
 "metadata": {
  "kernelspec": {
   "display_name": "py37",
   "language": "python",
   "name": "python3"
  },
  "language_info": {
   "codemirror_mode": {
    "name": "ipython",
    "version": 3
   },
   "file_extension": ".py",
   "mimetype": "text/x-python",
   "name": "python",
   "nbconvert_exporter": "python",
   "pygments_lexer": "ipython3",
   "version": "3.7.12"
  },
  "orig_nbformat": 4,
  "vscode": {
   "interpreter": {
    "hash": "9f014e20b5d4b009dfa10215228b9ab915030234f416ea935b9092a5da498cfb"
   }
  }
 },
 "nbformat": 4,
 "nbformat_minor": 2
}
